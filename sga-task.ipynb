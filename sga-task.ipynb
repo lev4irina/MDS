{
 "cells": [
  {
   "cell_type": "markdown",
   "metadata": {},
   "source": [
    "# User routes on the site\n",
    "## Description\n",
    "**Clickstream** is a sequence of user actions on a website. It allows you to understand how users interact with the site. In this task, you need to find the most frequent custom routes.\n",
    "\n",
    "## Input data\n",
    "Input data is а table with clickstream data in file `hdfs:/data/clickstream.csv`.\n",
    "\n",
    "### Table structure\n",
    "* `user_id (int)` - Unique user identifier.\n",
    "* `session_id (int)` - Unique identifier for the user session. The user's session lasts until the identifier changes.\n",
    "* `event_type (string)` - Event type from the list:\n",
    "    * **page** - visit to the page\n",
    "    * **event** - any action on the page\n",
    "    * <b>&lt;custom&gt;</b> - string with any other type\n",
    "* `event_type (string)` - Page on the site.\n",
    "* `timestamp (int)` - Unix-timestamp of action.\n",
    "\n",
    "### Browser errors\n",
    "Errors can sometimes occur in the user's browser - after such an error appears, we can no longer trust the data of this session and all the following lines after the error or at the same time with it are considered corrupted and **should not be counted** in statistics.\n",
    "\n",
    "When an error occurs on the page, a random string containing the word **error** will be written to the `event_type` field.\n",
    "\n",
    "### Sample of user session\n",
    "<pre>\n",
    "+-------+----------+------------+----------+----------+\n",
    "|user_id|session_id|  event_type|event_page| timestamp|\n",
    "+-------+----------+------------+----------+----------+\n",
    "|    562|       507|        page|      main|1620494781|\n",
    "|    562|       507|       event|      main|1620494788|\n",
    "|    562|       507|       event|      main|1620494798|\n",
    "|    562|       507|        page|    family|1620494820|\n",
    "|    562|       507|       event|    family|1620494828|\n",
    "|    562|       507|        page|      main|1620494848|\n",
    "|    562|       507|wNaxLlerrorU|      main|1620494865|\n",
    "|    562|       507|       event|      main|1620494873|\n",
    "|    562|       507|        page|      news|1620494875|\n",
    "|    562|       507|        page|   tariffs|1620494876|\n",
    "|    562|       507|       event|   tariffs|1620494884|\n",
    "|    562|       514|        page|      main|1620728918|\n",
    "|    562|       514|       event|      main|1620729174|\n",
    "|    562|       514|        page|   archive|1620729674|\n",
    "|    562|       514|        page|     bonus|1620729797|\n",
    "|    562|       514|        page|   tariffs|1620731090|\n",
    "|    562|       514|       event|   tariffs|1620731187|\n",
    "+-------+----------+------------+----------+----------+\n",
    "</pre>\n",
    "\n",
    "#### Correct user routes for a given user:\n",
    "* **Session 507**: main-family-main\n",
    "* **Session 514**: main-archive-bonus-tariffs\n",
    "\n",
    "Route elements are ordered by the time they appear in the clickstream, from earliest to latest.\n",
    "\n",
    "The route must be accounted for completely before the end of the session or an error in the session.\n",
    "\n",
    "## Task\n",
    "You need to use the Spark SQL, Spark RDD and Spark DF interfaces to create a solution file, the lines of which contain **the 30 most frequent user routes** on the site.\n",
    "\n",
    "Each line of the file should contain the `route` and `count` values **separated by tabs**, where:\n",
    "* `route` - route on the site, consisting of pages separated by \"-\".\n",
    "* `count` - the number of user sessions in which this route was.\n",
    "\n",
    "The lines must be **ordered in descending order** of the `count` field.\n",
    "\n",
    "## Criteria\n",
    "You can get maximum of 3.5 points (final grade) for this assignment, depedning on the number of interface you manage to leverage. The criteria are as follows:\n",
    "\n",
    "* 0.5 points – Spark SQL solution with 1 query\n",
    "* 0.5 points – Spark SQL solution with <=2 queries\n",
    "* 0.5 points – Spark RDD solution\n",
    "* 0.5 points – Spark DF solution\n",
    "* 0.5 points – your solution algorithm is relatively optimized, i.e.: no O^2 or O^3 complexities; appropriate object usage; no data leaks etc. This is evaluated by staff.\n",
    "* 1 point – 1 on 1 screening session. During this session staff member can ask you questions regarding your solution logic, framework usage, questionable parts of your code etc. If your code is clean enough, the staff member can just ask you to solve a theoretical problem connected to Spark.\n"
   ]
  },
  {
   "cell_type": "markdown",
   "metadata": {},
   "source": [
    "! pip3 install pyspark"
   ]
  },
  {
   "cell_type": "code",
   "execution_count": 1,
   "metadata": {
    "tags": []
   },
   "outputs": [
    {
     "name": "stdout",
     "output_type": "stream",
     "text": [
      "Collecting pyspark\n",
      "  Downloading pyspark-3.5.0.tar.gz (316.9 MB)\n",
      "\u001b[2K     \u001b[90m━━━━━━━━━━━━━━━━━━━━━━━━━━━━━━━━━━━━━━━\u001b[0m \u001b[32m316.9/316.9 MB\u001b[0m \u001b[31m2.0 MB/s\u001b[0m eta \u001b[36m0:00:00\u001b[0m00:01\u001b[0m00:01\u001b[0m\n",
      "\u001b[?25h  Preparing metadata (setup.py) ... \u001b[?25ldone\n",
      "\u001b[?25hCollecting py4j==0.10.9.7\n",
      "  Downloading py4j-0.10.9.7-py2.py3-none-any.whl (200 kB)\n",
      "\u001b[2K     \u001b[90m━━━━━━━━━━━━━━━━━━━━━━━━━━━━━━━━━━━━━━━\u001b[0m \u001b[32m200.5/200.5 kB\u001b[0m \u001b[31m7.2 MB/s\u001b[0m eta \u001b[36m0:00:00\u001b[0m\n",
      "\u001b[?25hBuilding wheels for collected packages: pyspark\n",
      "  Building wheel for pyspark (setup.py) ... \u001b[?25ldone\n",
      "\u001b[?25h  Created wheel for pyspark: filename=pyspark-3.5.0-py2.py3-none-any.whl size=317425347 sha256=9fa4bf4b5f04ad632a44457d9e9c82cfdd21ad2c5172d99772ad0927f9038806\n",
      "  Stored in directory: /home/jovyan/.cache/pip/wheels/41/4e/10/c2cf2467f71c678cfc8a6b9ac9241e5e44a01940da8fbb17fc\n",
      "Successfully built pyspark\n",
      "Installing collected packages: py4j, pyspark\n",
      "Successfully installed py4j-0.10.9.7 pyspark-3.5.0\n"
     ]
    }
   ],
   "source": [
    "! pip3 install pyspark"
   ]
  },
  {
   "cell_type": "code",
   "execution_count": 2,
   "metadata": {
    "tags": []
   },
   "outputs": [
    {
     "name": "stderr",
     "output_type": "stream",
     "text": [
      "Setting default log level to \"WARN\".\n",
      "To adjust logging level use sc.setLogLevel(newLevel). For SparkR, use setLogLevel(newLevel).\n",
      "2023-10-07 16:32:09,483 WARN yarn.Client: Neither spark.yarn.jars nor spark.yarn.archive is set, falling back to uploading libraries under SPARK_HOME.\n"
     ]
    }
   ],
   "source": [
    "import findspark\n",
    "findspark.init()\n",
    "\n",
    "import pyspark\n",
    "from pyspark.sql import SparkSession\n",
    "sc = pyspark.SparkContext(appName='jupyter')\n",
    "se = SparkSession(sc)\n"
   ]
  },
  {
   "cell_type": "code",
   "execution_count": 3,
   "metadata": {
    "tags": []
   },
   "outputs": [],
   "source": [
    "!hadoop fs -put clickstream.csv clickstream.csv"
   ]
  },
  {
   "cell_type": "code",
   "execution_count": 4,
   "metadata": {
    "tags": []
   },
   "outputs": [
    {
     "name": "stderr",
     "output_type": "stream",
     "text": [
      "                                                                                \r"
     ]
    },
    {
     "name": "stdout",
     "output_type": "stream",
     "text": [
      "+-------+----------+------------+----------+----------+\n",
      "|user_id|session_id|  event_type|event_page| timestamp|\n",
      "+-------+----------+------------+----------+----------+\n",
      "|    562|       507|        page|      main|1695584127|\n",
      "|    562|       507|       event|      main|1695584134|\n",
      "|    562|       507|       event|      main|1695584144|\n",
      "|    562|       507|       event|      main|1695584147|\n",
      "|    562|       507|wNaxLlerrorU|      main|1695584154|\n",
      "|    562|       507|       event|      main|1695584154|\n",
      "|    562|       507|       event|      main|1695584154|\n",
      "|    562|       507|       event|      main|1695584160|\n",
      "|    562|       507|        page|    rabota|1695584166|\n",
      "|    562|       507|       event|    rabota|1695584174|\n",
      "+-------+----------+------------+----------+----------+\n",
      "only showing top 10 rows\n",
      "\n"
     ]
    }
   ],
   "source": [
    "\n",
    "# Load the data\n",
    "clickstream_df = se.read.option(\"delimiter\", \"\\t\").csv(\"clickstream.csv\", header=True, inferSchema=True)\n",
    "\n",
    "\n",
    "# Show the first few rows\n",
    "clickstream_df.show(10)"
   ]
  },
  {
   "cell_type": "code",
   "execution_count": 5,
   "metadata": {
    "tags": []
   },
   "outputs": [
    {
     "name": "stdout",
     "output_type": "stream",
     "text": [
      "+-------+----------+----------+----------+----------+\n",
      "|user_id|session_id|event_type|event_page| timestamp|\n",
      "+-------+----------+----------+----------+----------+\n",
      "|   4645|       935|      page|   archive|1696270588|\n",
      "|   2251|       378|      page|    rabota|1696270591|\n",
      "|   2222|       704|      page|    rabota|1696270600|\n",
      "|   2366|       339|      page|     vklad|1696270605|\n",
      "|   2233|       165|     event|    rabota|1696270605|\n",
      "|   3253|       528|     event|      news|1696270612|\n",
      "|    109|       433|     event|     bonus|1696270613|\n",
      "|   4367|       106|     event|  internet|1696270619|\n",
      "|   2222|       704|     event|    rabota|1696270628|\n",
      "|   4304|       640|     event|  internet|1696270636|\n",
      "+-------+----------+----------+----------+----------+\n",
      "only showing top 10 rows\n",
      "\n"
     ]
    }
   ],
   "source": [
    "clickstream_df.createOrReplaceTempView(\"clickstream\")\n",
    "query = \"\"\"SELECT * FROM clickstream LIMIT 100\"\"\"\n",
    "filtered_df = se.sql(query)\n",
    "filtered_df.show(10)"
   ]
  },
  {
   "cell_type": "markdown",
   "metadata": {},
   "source": [
    "# Spark SQL"
   ]
  },
  {
   "cell_type": "code",
   "execution_count": 15,
   "metadata": {
    "tags": []
   },
   "outputs": [
    {
     "name": "stderr",
     "output_type": "stream",
     "text": [
      "[Stage 67:==========================================================(5 + 0) / 5]\r"
     ]
    },
    {
     "name": "stdout",
     "output_type": "stream",
     "text": [
      "+--------------------+------+\n",
      "|           route_str|count_|\n",
      "+--------------------+------+\n",
      "|                main|  8090|\n",
      "|        main-archive|  1096|\n",
      "|         main-rabota|  1039|\n",
      "|       main-internet|   880|\n",
      "|          main-bonus|   865|\n",
      "|           main-news|   760|\n",
      "|        main-tariffs|   669|\n",
      "|         main-online|   584|\n",
      "|          main-vklad|   514|\n",
      "| main-archive-rabota|   167|\n",
      "| main-rabota-archive|   167|\n",
      "|  main-bonus-archive|   139|\n",
      "|   main-rabota-bonus|   137|\n",
      "|    main-news-rabota|   134|\n",
      "|   main-bonus-rabota|   133|\n",
      "|main-archive-inte...|   131|\n",
      "|    main-rabota-news|   129|\n",
      "|main-internet-rabota|   128|\n",
      "|   main-archive-news|   125|\n",
      "|main-rabota-internet|   123|\n",
      "+--------------------+------+\n",
      "only showing top 20 rows\n",
      "\n"
     ]
    },
    {
     "name": "stderr",
     "output_type": "stream",
     "text": [
      "                                                                                \r"
     ]
    }
   ],
   "source": [
    "\n",
    "query = \"\"\"\n",
    "WITH FirstErrorTimestamps AS (\n",
    "    SELECT user_id, session_id, MIN(timestamp) as error_timestamp\n",
    "    FROM clickstream\n",
    "    WHERE event_type LIKE '%error%'\n",
    "    GROUP BY user_id, session_id\n",
    "),\n",
    "FilteredPages AS (\n",
    "    SELECT c.user_id, c.session_id, c.event_page, c.timestamp\n",
    "    FROM clickstream c\n",
    "    LEFT JOIN FirstErrorTimestamps e ON c.user_id = e.user_id AND c.session_id = e.session_id\n",
    "    WHERE c.event_type = 'page' \n",
    "    AND (c.timestamp < e.error_timestamp OR e.error_timestamp IS NULL)\n",
    "),\n",
    "AggregatedRoutes AS (\n",
    "    SELECT user_id, session_id, \n",
    "           COLLECT_LIST(event_page) OVER (PARTITION BY user_id, session_id ORDER BY timestamp) AS route_list, timestamp\n",
    "    FROM FilteredPages\n",
    "),\n",
    "ranked_routes AS (\n",
    "    SELECT *, ROW_NUMBER() OVER (PARTITION BY user_id, session_ID ORDER BY timestamp DESC) as row_num\n",
    "    FROM AggregatedRoutes\n",
    ")\n",
    ", final_table AS (\n",
    "    SELECT user_id, session_id, CONCAT_WS('-', route_list) AS route_str, timestamp FROM ranked_routes\n",
    "    WHERE row_num = 1\n",
    ")\n",
    "\n",
    "SELECT route_str, COUNT(*) count_ FROM final_table\n",
    "GROUP BY route_str\n",
    "ORDER BY count_ DESC\n",
    "\n",
    "\"\"\"\n",
    "\n",
    "routes_df = se.sql(query)\n",
    "routes_df.show(20)\n"
   ]
  },
  {
   "cell_type": "markdown",
   "metadata": {},
   "source": [
    "# RDD"
   ]
  },
  {
   "cell_type": "code",
   "execution_count": 16,
   "metadata": {
    "tags": []
   },
   "outputs": [],
   "source": [
    "clickstream_rdd = clickstream_df.rdd"
   ]
  },
  {
   "cell_type": "code",
   "execution_count": 18,
   "metadata": {
    "tags": []
   },
   "outputs": [],
   "source": [
    "from operator import add"
   ]
  },
  {
   "cell_type": "code",
   "execution_count": 19,
   "metadata": {
    "tags": []
   },
   "outputs": [
    {
     "name": "stderr",
     "output_type": "stream",
     "text": [
      "[Stage 85:=================================================>      (28 + 2) / 32]\r"
     ]
    },
    {
     "name": "stdout",
     "output_type": "stream",
     "text": [
      "main: 8090\n",
      "main-archive: 1092\n",
      "main-rabota: 1037\n",
      "main-internet: 879\n",
      "main-bonus: 865\n",
      "main-news: 759\n",
      "main-tariffs: 668\n",
      "main-online: 584\n",
      "main-vklad: 513\n",
      "main-archive-rabota: 167\n",
      "main-rabota-archive: 167\n",
      "main-bonus-archive: 139\n",
      "main-rabota-bonus: 137\n",
      "main-news-rabota: 134\n",
      "main-bonus-rabota: 133\n",
      "main-archive-internet: 131\n",
      "main-rabota-news: 129\n",
      "main-internet-rabota: 128\n",
      "main-archive-news: 125\n",
      "main-internet-archive: 123\n"
     ]
    },
    {
     "name": "stderr",
     "output_type": "stream",
     "text": [
      "                                                                                \r"
     ]
    }
   ],
   "source": [
    "\n",
    "error_timestamps = (clickstream_rdd\n",
    "                    .filter(lambda r: 'error' in r.event_type)\n",
    "                    .map(lambda r: ((r.user_id, r.session_id), r.timestamp))\n",
    "                    .reduceByKey(min)\n",
    "                   )\n",
    "\n",
    "valid_pages = (clickstream_rdd\n",
    "               .filter(lambda r: r.event_type == 'page')\n",
    "               .map(lambda r: ((r.user_id, r.session_id), r))\n",
    "               .leftOuterJoin(error_timestamps)\n",
    "               .filter(lambda x: x[1][1] is None or x[1][0].timestamp < x[1][1])\n",
    "               .map(lambda x: x[1][0])\n",
    "              )\n",
    "\n",
    "routes = (valid_pages\n",
    "          .map(lambda r: ((r.user_id, r.session_id), [r.event_page]))\n",
    "          .reduceByKey(add)\n",
    "          .map(lambda x: (\"-\".join(x[1]), 1))\n",
    "          .reduceByKey(add)\n",
    "         )\n",
    "\n",
    "\n",
    "ordered_routes = routes.sortBy(lambda x: x[1], ascending=False)\n",
    "\n",
    "top_routes = ordered_routes.take(20)\n",
    "\n",
    "# Display\n",
    "for route, count in top_routes:\n",
    "    print(f\"{route}: {count}\")"
   ]
  },
  {
   "cell_type": "markdown",
   "metadata": {},
   "source": [
    "# DF"
   ]
  },
  {
   "cell_type": "code",
   "execution_count": 20,
   "metadata": {
    "tags": []
   },
   "outputs": [
    {
     "name": "stderr",
     "output_type": "stream",
     "text": [
      "[Stage 92:==============================================>           (4 + 1) / 5]\r"
     ]
    },
    {
     "name": "stdout",
     "output_type": "stream",
     "text": [
      "+--------------------+-----+\n",
      "|           route_str|count|\n",
      "+--------------------+-----+\n",
      "|                main| 8090|\n",
      "|        main-archive| 1096|\n",
      "|         main-rabota| 1039|\n",
      "|       main-internet|  880|\n",
      "|          main-bonus|  865|\n",
      "|           main-news|  760|\n",
      "|        main-tariffs|  669|\n",
      "|         main-online|  584|\n",
      "|          main-vklad|  514|\n",
      "| main-archive-rabota|  167|\n",
      "| main-rabota-archive|  167|\n",
      "|  main-bonus-archive|  139|\n",
      "|   main-rabota-bonus|  137|\n",
      "|    main-news-rabota|  134|\n",
      "|   main-bonus-rabota|  133|\n",
      "|main-archive-inte...|  131|\n",
      "|    main-rabota-news|  129|\n",
      "|main-internet-rabota|  128|\n",
      "|   main-archive-news|  125|\n",
      "|main-rabota-internet|  123|\n",
      "+--------------------+-----+\n",
      "only showing top 20 rows\n",
      "\n"
     ]
    },
    {
     "name": "stderr",
     "output_type": "stream",
     "text": [
      "                                                                                \r"
     ]
    }
   ],
   "source": [
    "from pyspark.sql import SparkSession\n",
    "from pyspark.sql.window import Window\n",
    "from pyspark.sql import functions as F\n",
    "\n",
    "\n",
    "error_timestamps = (\n",
    "    clickstream_df.filter(F.col(\"event_type\").like(\"%error%\"))\n",
    "    .groupBy(\"user_id\", \"session_id\")\n",
    "    .agg(F.min(\"timestamp\").alias(\"first_error_ts\"))\n",
    ")\n",
    "\n",
    "\n",
    "valid_pages = (\n",
    "    clickstream_df.join(\n",
    "        error_timestamps,\n",
    "        on=[\"user_id\", \"session_id\"],\n",
    "        how=\"left_outer\"\n",
    "    )\n",
    "    .filter(\n",
    "        (F.col(\"event_type\") == \"page\") \n",
    "        & ((F.col(\"timestamp\") < F.col(\"first_error_ts\")) | F.col(\"first_error_ts\").isNull())\n",
    "    )\n",
    ")\n",
    "\n",
    "\n",
    "window_spec = (\n",
    "    Window.partitionBy(\"user_id\", \"session_id\")\n",
    "    .orderBy(\"timestamp\")\n",
    "    .rowsBetween(Window.unboundedPreceding, Window.currentRow)\n",
    ")\n",
    "\n",
    "routes = (\n",
    "    valid_pages.withColumn(\"route\", F.collect_list(\"event_page\").over(window_spec))\n",
    "    .groupBy(\"user_id\", \"session_id\")\n",
    "    .agg(F.max(\"route\").alias(\"route\"))\n",
    "    .withColumn(\"route_str\", F.expr(\"concat_ws('-', route)\"))\n",
    ")\n",
    "\n",
    "route_counts = (\n",
    "    routes.groupBy(\"route_str\")\n",
    "    .count()\n",
    "    .orderBy(F.desc(\"count\"))\n",
    ")\n",
    "\n",
    "# Display the top 20\n",
    "route_counts.show(20)\n"
   ]
  },
  {
   "cell_type": "code",
   "execution_count": null,
   "metadata": {},
   "outputs": [],
   "source": []
  },
  {
   "cell_type": "code",
   "execution_count": null,
   "metadata": {},
   "outputs": [],
   "source": []
  },
  {
   "cell_type": "code",
   "execution_count": null,
   "metadata": {},
   "outputs": [],
   "source": []
  },
  {
   "cell_type": "code",
   "execution_count": null,
   "metadata": {},
   "outputs": [],
   "source": []
  },
  {
   "cell_type": "code",
   "execution_count": null,
   "metadata": {},
   "outputs": [],
   "source": []
  }
 ],
 "metadata": {
  "coursera": {
   "schema_names": [
    "week-4-spark-homework"
   ]
  },
  "kernelspec": {
   "display_name": "Python 3 (ipykernel)",
   "language": "python",
   "name": "python3"
  },
  "language_info": {
   "codemirror_mode": {
    "name": "ipython",
    "version": 3
   },
   "file_extension": ".py",
   "mimetype": "text/x-python",
   "name": "python",
   "nbconvert_exporter": "python",
   "pygments_lexer": "ipython3",
   "version": "3.10.9"
  },
  "vscode": {
   "interpreter": {
    "hash": "31f2aee4e71d21fbe5cf8b01ff0e069b9275f58929596ceb00d14d90e3e16cd6"
   }
  }
 },
 "nbformat": 4,
 "nbformat_minor": 4
}
